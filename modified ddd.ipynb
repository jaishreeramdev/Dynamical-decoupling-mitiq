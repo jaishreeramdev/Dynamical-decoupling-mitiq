{
 "cells": [
  {
   "cell_type": "code",
   "execution_count": 366,
   "id": "92826bf3",
   "metadata": {},
   "outputs": [
    {
     "data": {
      "text/plain": [
       "dict_keys(['cirq', 'pyquil', 'qiskit', 'braket', 'pennylane', 'qibo'])"
      ]
     },
     "execution_count": 366,
     "metadata": {},
     "output_type": "execute_result"
    }
   ],
   "source": [
    "import mitiq\n",
    "\n",
    "mitiq.SUPPORTED_PROGRAM_TYPES.keys()"
   ]
  },
  {
   "cell_type": "code",
   "execution_count": 367,
   "id": "76ce4d2d",
   "metadata": {},
   "outputs": [],
   "source": [
    "#We first define the circuit of interest. In this example, the circuit has a slack window \n",
    "#with a length of 4 (in the sense that 4 single-qubit gates can fit in that window)."
   ]
  },
  {
   "cell_type": "code",
   "execution_count": 368,
   "id": "9f9c6c9a",
   "metadata": {},
   "outputs": [
    {
     "name": "stdout",
     "output_type": "stream",
     "text": [
      "0: ───Rx(0.032π)────Rx(0.032π)────Rz(0.127π)───Rx(-0.229π)───Rz(0.064π)───@───────\n",
      "                                                                          │\n",
      "1: ───Rx(-0.255π)───Rx(-0.255π)───────────────────────────────────────────X───X───\n",
      "                                                                              │\n",
      "2: ───Rx(-0.255π)─────────────────────────────────────────────────────────────@───\n"
     ]
    }
   ],
   "source": [
    "from cirq import LineQubit, Circuit, rx, rz, CNOT\n",
    "\n",
    "a, b,c = LineQubit.range(3)\n",
    "#cirq.NamedQubit: used to label qubits by an abstract name.\n",
    "#cirq.LineQubit: qubits labelled by number in a linear array.\n",
    "#cirq.GridQubit: qubits labelled by two numbers in a rectangular lattice.\n",
    "circuit = Circuit(\n",
    "    rx(0.1).on(a),\n",
    "    rx(0.1).on(a),\n",
    "    rz(0.4).on(a),\n",
    "    rx(-0.72).on(a),\n",
    "    rz(0.2).on(a),\n",
    "    rx(-0.8).on(b),\n",
    "    rx(-0.8).on(b),\n",
    "    rx(-0.8).on(c),\n",
    "    CNOT.on(a, b),\n",
    "    CNOT.on(c, b),\n",
    ")\n",
    "print(circuit)\n",
    "#The Rx gate is one of the Rotation operators. The Rx gate is a single-qubit rotation through angle θ (radians) around the x-axis.\n",
    "#Ry-- y axis and Rz -- z axis\n",
    "#The angle of rotation must be specified in radians and can be positive or negative.\n",
    "\n",
    "#The CNOT gate is two-qubit operation, where the first qubit is usually referred to as the control qubit and the second qubit as the target qubit. Expressed in basis states, the CNOT gate:\n",
    "#leaves the control qubit unchanged and performs a Pauli-X gate on the target qubit when the control qubit is in state ∣1⟩\n",
    "#leaves the target qubit unchanged when the control qubit is in state ∣0⟩."
   ]
  },
  {
   "cell_type": "code",
   "execution_count": 369,
   "id": "912bd64a",
   "metadata": {},
   "outputs": [],
   "source": [
    "#Error mitigation methods can involve running many circuits.  \n",
    "#The mitiq.Executor classis a tool for efficiently running many circuits and storing the results.\n",
    "\n",
    "#Next we define a simple executor function which inputs a circuit, executes the circuit on a noisy simulator, \n",
    "#and returns the probability of the ground state."
   ]
  },
  {
   "cell_type": "code",
   "execution_count": 370,
   "id": "f36617db",
   "metadata": {},
   "outputs": [],
   "source": [
    "import numpy as np\n",
    "from cirq import DensityMatrixSimulator, amplitude_damp\n",
    "from mitiq.interface import convert_to_mitiq\n",
    "#A density matrix is a matrix that describes a quantum system in a mixed state, a statistical ensemble of several quantum states.\n",
    "\n",
    "#cirq.AmplitudeDampingChannel (or cirq.amplitude_damp) performs a /1>--->/0>\n",
    "#transformation with some probability gamma, leaving the existing /0>state alone.\n",
    "#  This channel is best used to represent an idealized form of energy dissipation, where qubits decay from to ∣1⟩ to /0>\n",
    "\n",
    "def execute(circuit, noise_level=0.2):\n",
    "    #we can change the noise level from 0 to 1 and compare the efficiency of the DD for different noise level\n",
    "    #In the theory of quantum communication, an amplitude damping channel \n",
    "    #is a quantum channel that models physical processes such as spontaneous emission.\n",
    "    \"\"\"Returns Tr[ρ |0⟩⟨0|] where ρ is the state prepared by the circuit\n",
    "    executed with amplitude damping noise.\n",
    "    \"\"\"\n",
    "    # Replace with code based on your frontend and backend.\n",
    "    mitiq_circuit, _ = convert_to_mitiq(circuit)\n",
    "    noisy_circuit = mitiq_circuit.with_noise(amplitude_damp(gamma=noise_level)) \n",
    "    #we can change gamma level and check the circuit\n",
    "    rho = DensityMatrixSimulator().simulate(noisy_circuit).final_density_matrix\n",
    "    return rho[0, 0].real #this will return real values \n",
    "#rho[0,0] represents the first row first column of the density matrix"
   ]
  },
  {
   "cell_type": "code",
   "execution_count": 371,
   "id": "5b157aa5",
   "metadata": {},
   "outputs": [],
   "source": [
    "#The executor can be used to evaluate noisy (unmitigated) expectation values."
   ]
  },
  {
   "cell_type": "code",
   "execution_count": 372,
   "id": "69f62db0",
   "metadata": {},
   "outputs": [
    {
     "name": "stdout",
     "output_type": "stream",
     "text": [
      "Error without mitigation: 0.427\n"
     ]
    }
   ],
   "source": [
    "# Compute the expectation value of the |0><0| observable.\n",
    "noisy_value = execute(circuit)\n",
    "ideal_value = execute(circuit, noise_level=0.0) #ideal noise leve=zero noise=0.0\n",
    "EWOM=abs(ideal_value - noisy_value)\n",
    "print(f\"Error without mitigation: {abs(ideal_value - noisy_value) :.3}\") #.3-upto 3 nonzero digits"
   ]
  },
  {
   "cell_type": "code",
   "execution_count": 373,
   "id": "4373ee99",
   "metadata": {},
   "outputs": [],
   "source": [
    "#Select the DDD sequences to be applied\n",
    "#We now import a DDD rule from Mitiq, i. e., \n",
    "#a function that generates DDD sequences of different length. \n",
    "#In this example, we opt for YY sequences (pairs of Pauli Y operations)."
   ]
  },
  {
   "cell_type": "code",
   "execution_count": 374,
   "id": "de351969",
   "metadata": {},
   "outputs": [],
   "source": [
    "from mitiq import ddd\n",
    "\n",
    "#rule1 = ddd.rules.yy\n",
    "rule = ddd.rules.xyxy\n",
    "#rule3== ddd.rules.xyxy"
   ]
  },
  {
   "cell_type": "code",
   "execution_count": 375,
   "id": "39f51df4",
   "metadata": {},
   "outputs": [],
   "source": [
    "#Mitiq provides basic built in rules to approximate dynamical decoupling sequences\n",
    "#that are most used and discussed in the literature .\n",
    "#For example, the XX, YY, and XYXY rules generate the corresponding gate sequences spaced evenly over the input slack window.\n",
    "\n",
    "#For each of these rules, the user may specify a different spacing between the gates in the sequence \n",
    "#and pass the desired option as shown in the next code cell.\n",
    "\n",
    "#Note thatif we have defines for odd number of slack window and the dd sequence we use is even, \n",
    "#the remaining will take identity gate"
   ]
  },
  {
   "cell_type": "code",
   "execution_count": 376,
   "id": "cd725936",
   "metadata": {},
   "outputs": [],
   "source": [
    "#Digital dynamical decoupling can be easily implemented with the function execute_with_ddd()."
   ]
  },
  {
   "cell_type": "code",
   "execution_count": 377,
   "id": "fe1440fb",
   "metadata": {},
   "outputs": [],
   "source": [
    "mitigated_result = ddd.execute_with_ddd(\n",
    "    circuit=circuit,\n",
    "    executor=execute,\n",
    "    rule=rule,\n",
    ")"
   ]
  },
  {
   "cell_type": "code",
   "execution_count": 378,
   "id": "035eb4f4",
   "metadata": {},
   "outputs": [
    {
     "name": "stdout",
     "output_type": "stream",
     "text": [
      "0: ───Rx(0.032π)────Rx(0.032π)────Rz(0.127π)───Rx(-0.229π)───Rz(0.064π)───@───────\n",
      "                                                                          │\n",
      "1: ───Rx(-0.255π)───Rx(-0.255π)───────────────────────────────────────────X───X───\n",
      "                                                                              │\n",
      "2: ───Rx(-0.255π)───I─────────────X────────────Y─────────────X────────────Y───@───\n"
     ]
    }
   ],
   "source": [
    "from mitiq.ddd import insert_ddd_sequences\n",
    "ixix_circ = insert_ddd_sequences(circuit, rule)\n",
    "print(ixix_circ)"
   ]
  },
  {
   "cell_type": "code",
   "execution_count": 379,
   "id": "5806941f",
   "metadata": {},
   "outputs": [
    {
     "name": "stdout",
     "output_type": "stream",
     "text": [
      "Error with mitigation (DDD): 0.223\n"
     ]
    }
   ],
   "source": [
    "print(f\"Error with mitigation (DDD): {abs(ideal_value - mitigated_result) :.3}\")\n",
    "EWM=abs(ideal_value - mitigated_result)"
   ]
  },
  {
   "cell_type": "code",
   "execution_count": 380,
   "id": "26e8710e",
   "metadata": {},
   "outputs": [],
   "source": [
    "#here we can use different noise levels , different DDD rules , differnt circuits and compare them all.\n",
    "#We are using gate delay , we can also insert delays between gates , increase the number of ddd sequence , we can change the \n",
    "#time duration between gates or between sequences and compare theresults."
   ]
  },
  {
   "cell_type": "code",
   "execution_count": 381,
   "id": "2b61253c",
   "metadata": {},
   "outputs": [],
   "source": [
    "#Here we observe that the application of DDD reduces the estimation error when compared to the unmitigated result.\n",
    "\n",
    "#DDD is designed to mitigate noise that has a finite correlation time.\n",
    "#For the simple Markovian noise simulated in this example, DDD can still have a non-trivial effect on the final error,\n",
    "#but it is not always a positive effect. \n",
    "#For example, one can check that by changing the parameters of the input circuit, \n",
    "#the error with DDD is sometimes larger than the unmitigated error."
   ]
  },
  {
   "cell_type": "code",
   "execution_count": 382,
   "id": "93a8209e",
   "metadata": {},
   "outputs": [],
   "source": [
    "#percentage of mitigation"
   ]
  },
  {
   "cell_type": "code",
   "execution_count": 383,
   "id": "57466ac3",
   "metadata": {},
   "outputs": [
    {
     "name": "stdout",
     "output_type": "stream",
     "text": [
      "The percentage is: 47.71%\n"
     ]
    }
   ],
   "source": [
    "# Calculate percentage \n",
    "numerator = EWOM-EWM\n",
    "denominator =EWOM \n",
    "percentage = (numerator / denominator) * 100\n",
    "print(f\"The percentage is: {percentage:.2f}%\")\n"
   ]
  }
 ],
 "metadata": {
  "kernelspec": {
   "display_name": "Python 3 (ipykernel)",
   "language": "python",
   "name": "python3"
  },
  "language_info": {
   "codemirror_mode": {
    "name": "ipython",
    "version": 3
   },
   "file_extension": ".py",
   "mimetype": "text/x-python",
   "name": "python",
   "nbconvert_exporter": "python",
   "pygments_lexer": "ipython3",
   "version": "3.10.9"
  }
 },
 "nbformat": 4,
 "nbformat_minor": 5
}
